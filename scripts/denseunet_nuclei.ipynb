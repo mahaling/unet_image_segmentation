{
 "cells": [
  {
   "cell_type": "code",
   "execution_count": 1,
   "metadata": {},
   "outputs": [],
   "source": [
    "%load_ext autoreload\n",
    "%autoreload 2"
   ]
  },
  {
   "cell_type": "code",
   "execution_count": 2,
   "metadata": {},
   "outputs": [],
   "source": [
    "from __future__ import print_function, division\n",
    "\n",
    "import os\n",
    "import sys\n",
    "sys.path.append(\"../\")\n",
    "os.environ[\"CUDA_VISIBLE_DEVICES\"] = \"0\"\n",
    "\n",
    "import copy\n",
    "import json\n",
    "import importlib\n",
    "from glob import glob\n",
    "import pandas as pd\n",
    "from skimage import io, transform\n",
    "import matplotlib.pyplot as plt\n",
    "from matplotlib.image import imread\n",
    "import numpy as np\n",
    "from tqdm import tqdm\n",
    "\n",
    "import torch\n",
    "import torch.nn as nn\n",
    "import torch.nn.functional as F\n",
    "import torch.optim as optim\n",
    "import torchmetrics\n",
    "from torch.optim import Adam, SGD\n",
    "from losses import DiceLoss, DiceLossWithLogtis\n",
    "from torch.nn import BCELoss, CrossEntropyLoss\n",
    "\n",
    "from utils import (\n",
    "    show_image_and_mask,\n",
    "    load_config,\n",
    "    _print,\n",
    ")\n",
    "\n",
    "# Ignore warnings\n",
    "import warnings\n",
    "warnings.filterwarnings(\"ignore\")"
   ]
  },
  {
   "cell_type": "code",
   "execution_count": 3,
   "metadata": {},
   "outputs": [],
   "source": [
    "#torch.manual_seed(0)\n",
    "#np.random.seed(0)\n",
    "#torch.cuda.manual_seed(0)\n",
    "#import random\n",
    "#random.seed(0)"
   ]
  },
  {
   "cell_type": "code",
   "execution_count": 4,
   "metadata": {},
   "outputs": [],
   "source": [
    "CONFIG_NAME = \"nuclei_denseunet.yaml\"\n",
    "CONFIG_FILE_PATH = os.path.join(\"../configs\", CONFIG_NAME)"
   ]
  },
  {
   "cell_type": "code",
   "execution_count": 5,
   "metadata": {},
   "outputs": [
    {
     "name": "stdout",
     "output_type": "stream",
     "text": [
      "\u001b[0m\u001b[4m\u001b[96mConfig:\u001b[0m\n",
      "{\n",
      "  \"run\": {\n",
      "    \"mode\": \"train\",\n",
      "    \"device\": \"gpu\"\n",
      "  },\n",
      "  \"transforms\": \"none\",\n",
      "  \"dataset\": {\n",
      "    \"class_name\": \"nuclei_dataset\",\n",
      "    \"input_size\": 224,\n",
      "    \"data_dir\": \"/home/gmahalingam/My.Explorations/datasets/data-science-bowl-2018/data\",\n",
      "    \"training\": {\n",
      "      \"params\": {\n",
      "        \"data_dir\": \"/home/gmahalingam/My.Explorations/datasets/data-science-bowl-2018/data\"\n",
      "      }\n",
      "    },\n",
      "    \"validation\": {\n",
      "      \"params\": {\n",
      "        \"data_dir\": \"/home/gmahalingam/My.Explorations/datasets/data-science-bowl-2018/data\"\n",
      "      }\n",
      "    },\n",
      "    \"number_classes\": 2\n",
      "  },\n",
      "  \"data_loader\": {\n",
      "    \"train\": {\n",
      "      \"batch_size\": 4,\n",
      "      \"shuffle\": true,\n",
      "      \"num_workers\": 8,\n",
      "      \"pin_memory\": true\n",
      "    },\n",
      "    \"validation\": {\n",
      "      \"batch_size\": 4,\n",
      "      \"shuffle\": false,\n",
      "      \"num_workers\": 8,\n",
      "      \"pin_memory\": true\n",
      "    },\n",
      "    \"test\": {\n",
      "      \"batch_size\": 2,\n",
      "      \"shuffle\": false,\n",
      "      \"num_workers\": 4,\n",
      "      \"pin_memory\": false\n",
      "    }\n",
      "  },\n",
      "  \"training\": {\n",
      "    \"optimizer\": {\n",
      "      \"name\": \"Adam\",\n",
      "      \"params\": {\n",
      "        \"lr\": 0.0001\n",
      "      }\n",
      "    },\n",
      "    \"criterion\": {\n",
      "      \"name\": \"DiceLoss\",\n",
      "      \"params\": {}\n",
      "    },\n",
      "    \"scheduler\": {\n",
      "      \"factor\": 0.5,\n",
      "      \"patience\": 10\n",
      "    },\n",
      "    \"epochs\": 100\n",
      "  },\n",
      "  \"model\": {\n",
      "    \"save_dir\": \"/home/gmahalingam/My.Explorations/unets/saved_models/nuclei2018_denseunet\",\n",
      "    \"load_weights\": false,\n",
      "    \"name\": \"DenseUNet\",\n",
      "    \"params\": {\n",
      "      \"n_channels\": 3,\n",
      "      \"n_classes\": 2,\n",
      "      \"downsample\": true\n",
      "    }\n",
      "  }\n",
      "}\n",
      "~-~-~-~-~-~-~-~-~-~-~-~-~-~-~-~-~-~-~-~- \n",
      "\n"
     ]
    }
   ],
   "source": [
    "config = load_config(CONFIG_FILE_PATH)\n",
    "_print(\"Config:\", \"info_underline\")\n",
    "print(json.dumps(config, indent=2))\n",
    "print(20*\"~-\", \"\\n\")"
   ]
  },
  {
   "cell_type": "code",
   "execution_count": 6,
   "metadata": {},
   "outputs": [],
   "source": [
    "from datasets.nuclei_dataset import nuclei_dataset\n",
    "from torch.utils.data import DataLoader, Subset\n",
    "from torchvision import transforms\n",
    "from sklearn.model_selection import train_test_split"
   ]
  },
  {
   "cell_type": "code",
   "execution_count": 7,
   "metadata": {},
   "outputs": [
    {
     "name": "stdout",
     "output_type": "stream",
     "text": [
      "Torch device: cuda\n"
     ]
    }
   ],
   "source": [
    "INPUT_SIZE = config['dataset']['input_size']\n",
    "\n",
    "device = torch.device(\"cuda\" if torch.cuda.is_available() else \"cpu\")\n",
    "print(f\"Torch device: {device}\")\n",
    "\n"
   ]
  },
  {
   "cell_type": "code",
   "execution_count": 8,
   "metadata": {},
   "outputs": [],
   "source": [
    "def prepare_datasets(config):\n",
    "    data_path = config['dataset']['data_dir']\n",
    "    train_dataset = nuclei_dataset(data_path, mode=\"train\", one_hot=True)\n",
    "    val_dataset = nuclei_dataset(data_path, mode=\"val\", one_hot=True)\n",
    "    test_dataset = nuclei_dataset(data_path, mode=\"test\", one_hot=True)\n",
    "\n",
    "    tr_datalodaer = DataLoader(train_dataset, **config['data_loader']['train'])\n",
    "    val_dataloader = DataLoader(val_dataset, **config['data_loader']['validation'])\n",
    "    test_dataloader = DataLoader(test_dataset, **config['data_loader']['test'])\n",
    "\n",
    "    return tr_datalodaer, val_dataloader, test_dataloader"
   ]
  },
  {
   "cell_type": "code",
   "execution_count": 9,
   "metadata": {},
   "outputs": [],
   "source": [
    "train_dataloader, val_dataloader, test_dataloader = prepare_datasets(config)"
   ]
  },
  {
   "cell_type": "code",
   "execution_count": 10,
   "metadata": {},
   "outputs": [],
   "source": [
    "metrics = torchmetrics.MetricCollection(\n",
    "    [\n",
    "        torchmetrics.F1Score(task=\"multiclass\", num_classes=2),\n",
    "        torchmetrics.Accuracy(task=\"multiclass\", num_classes=2),\n",
    "        torchmetrics.Dice(),\n",
    "        torchmetrics.Precision(task=\"multiclass\", num_classes=2),\n",
    "        torchmetrics.Specificity(task=\"multiclass\", num_classes=2),\n",
    "        torchmetrics.Recall(task=\"multiclass\", num_classes=2),\n",
    "        # IoU\n",
    "        torchmetrics.JaccardIndex(task=\"multiclass\", num_classes=2)\n",
    "    ],\n",
    "    prefix='train_metrics/'\n",
    ")\n",
    "\n",
    "# train_metrics\n",
    "train_metrics = metrics.clone(prefix='train_metrics/').to(device)\n",
    "\n",
    "# valid_metrics\n",
    "valid_metrics = metrics.clone(prefix='valid_metrics/').to(device)\n",
    "\n",
    "# test_metrics\n",
    "test_metrics = metrics.clone(prefix='test_metrics/').to(device)"
   ]
  },
  {
   "cell_type": "code",
   "execution_count": 11,
   "metadata": {},
   "outputs": [],
   "source": [
    "def make_serializeable_metrics(computed_metrics):\n",
    "    res = {}\n",
    "    for k, v in computed_metrics.items():\n",
    "        res[k] = float(v.cpu().detach().numpy())\n",
    "    return res"
   ]
  },
  {
   "cell_type": "code",
   "execution_count": 12,
   "metadata": {},
   "outputs": [],
   "source": [
    "def validate(model, criterion, vl_dataloader):\n",
    "    model.eval()\n",
    "    with torch.no_grad():\n",
    "        \n",
    "        evaluator = valid_metrics.clone().to(device)\n",
    "        \n",
    "        losses = []\n",
    "        cnt = 0.\n",
    "        for batch, batch_data in enumerate(vl_dataloader):\n",
    "            imgs = batch_data['image']\n",
    "            msks = batch_data['mask']\n",
    "            \n",
    "            cnt += msks.shape[0]\n",
    "            \n",
    "            imgs = imgs.to(device)\n",
    "            msks = msks.to(device)\n",
    "            \n",
    "            preds = model(imgs)\n",
    "            loss = criterion(preds, msks)\n",
    "            losses.append(loss.item())\n",
    "            \n",
    "            \n",
    "            preds_ = torch.argmax(preds, 1, keepdim=False).float()\n",
    "            msks_ = torch.argmax(msks, 1, keepdim=False)\n",
    "            evaluator.update(preds_, msks_)\n",
    "        \n",
    "#             _cml = f\"curr_mean-loss:{np.sum(losses)/cnt:0.5f}\"\n",
    "#             _bl = f\"batch-loss:{losses[-1]/msks.shape[0]:0.5f}\"\n",
    "#             iterator.set_description(f\"Validation) batch:{batch+1:04d} -> {_cml}, {_bl}\")\n",
    "        \n",
    "        # print the final results\n",
    "        loss = np.sum(losses)/cnt\n",
    "        metrics = evaluator.compute()\n",
    "    \n",
    "    return evaluator, loss"
   ]
  },
  {
   "cell_type": "code",
   "execution_count": 13,
   "metadata": {},
   "outputs": [],
   "source": [
    "def train(\n",
    "    model, \n",
    "    device, \n",
    "    tr_dataloader,\n",
    "    vl_dataloader,\n",
    "    config,\n",
    "    \n",
    "    criterion,\n",
    "    optimizer,\n",
    "    scheduler,\n",
    "    \n",
    "    save_dir='./',\n",
    "    save_file_id=None,\n",
    "):\n",
    "    \n",
    "    EPOCHS = config['training']['epochs']\n",
    "    \n",
    "    torch.cuda.empty_cache()\n",
    "    model = model.to(device)\n",
    "\n",
    "    evaluator = train_metrics.clone().to(device)\n",
    "    \n",
    "    epochs_info = []\n",
    "    best_model = None\n",
    "    best_result = {}\n",
    "    best_vl_loss = np.Inf\n",
    "    for epoch in range(EPOCHS):\n",
    "        model.train()\n",
    "        \n",
    "        evaluator.reset()\n",
    "        tr_iterator = tqdm(enumerate(tr_dataloader))\n",
    "        tr_losses = []\n",
    "        cnt = 0\n",
    "        for batch, batch_data in tr_iterator:\n",
    "            imgs = batch_data['image']\n",
    "            msks = batch_data['mask']\n",
    "            \n",
    "            imgs = imgs.to(device)\n",
    "            msks = msks.to(device)\n",
    "            \n",
    "            optimizer.zero_grad()\n",
    "            preds = model(imgs)\n",
    "            loss = criterion(preds, msks)\n",
    "            loss.backward()\n",
    "            optimizer.step()\n",
    "            \n",
    "            # evaluate by metrics\n",
    "            preds_ = torch.argmax(preds, 1, keepdim=False).float()\n",
    "            msks_ = torch.argmax(msks, 1, keepdim=False)\n",
    "            evaluator.update(preds_, msks_)\n",
    "            \n",
    "            cnt += imgs.shape[0]\n",
    "            tr_losses.append(loss.item())\n",
    "            \n",
    "            # write details for each training batch\n",
    "            _cml = f\"curr_mean-loss:{np.sum(tr_losses)/cnt:0.5f}\"\n",
    "            _bl = f\"mean_batch-loss:{tr_losses[-1]/imgs.shape[0]:0.5f}\"\n",
    "            tr_iterator.set_description(f\"Training) ep:{epoch:03d}, batch:{batch+1:04d} -> {_cml}, {_bl}\")\n",
    "            \n",
    "        tr_loss = np.sum(tr_losses)/cnt\n",
    "        \n",
    "        # validate model\n",
    "        vl_metrics, vl_loss = validate(model, criterion, vl_dataloader)\n",
    "        if vl_loss < best_vl_loss:\n",
    "            # find a better model\n",
    "            best_model = model\n",
    "            best_vl_loss = vl_loss\n",
    "            best_result = {\n",
    "                'tr_loss': tr_loss,\n",
    "                'vl_loss': vl_loss,\n",
    "                'tr_metrics': make_serializeable_metrics(evaluator.compute()),\n",
    "                'vl_metrics': make_serializeable_metrics(vl_metrics.compute())\n",
    "            }\n",
    "        \n",
    "        # write the final results\n",
    "        epoch_info = {\n",
    "            'tr_loss': tr_loss,\n",
    "            'vl_loss': vl_loss,\n",
    "            'tr_metrics': make_serializeable_metrics(evaluator.compute()),\n",
    "            'vl_metrics': make_serializeable_metrics(vl_metrics.compute())\n",
    "        }\n",
    "        epochs_info.append(epoch_info)\n",
    "#         epoch_tqdm.set_description(f\"Epoch:{epoch+1}/{EPOCHS} -> tr_loss:{tr_loss}, vl_loss:{vl_loss}\")\n",
    "        evaluator.reset()\n",
    "    \n",
    "        scheduler.step(vl_loss)\n",
    "  \n",
    "    # save final results\n",
    "    res = {\n",
    "        'id': save_file_id,\n",
    "        'config': config,\n",
    "        'epochs_info': epochs_info,\n",
    "        'best_result': best_result\n",
    "    }\n",
    "    fn = f\"{save_file_id+'_' if save_file_id else ''}result.json\"\n",
    "    fp = os.path.join(config['model']['save_dir'],fn)\n",
    "    with open(fp, \"w\") as write_file:\n",
    "        json.dump(res, write_file, indent=4)\n",
    "\n",
    "    # save model's state_dict\n",
    "    fn = \"last_model_state_dict.pt\"\n",
    "    fp = os.path.join(config['model']['save_dir'],fn)\n",
    "    torch.save(model.state_dict(), fp)\n",
    "    \n",
    "    # save the best model's state_dict\n",
    "    fn = \"best_model_state_dict.pt\"\n",
    "    fp = os.path.join(config['model']['save_dir'], fn)\n",
    "    torch.save(best_model.state_dict(), fp)\n",
    "    \n",
    "    return best_model, model, res"
   ]
  },
  {
   "cell_type": "code",
   "execution_count": 14,
   "metadata": {},
   "outputs": [],
   "source": [
    "def test(model, te_dataloader):\n",
    "    model.eval()\n",
    "    with torch.no_grad():\n",
    "        evaluator = test_metrics.clone().to(device)            \n",
    "        for batch_data in tqdm(te_dataloader):\n",
    "            imgs = batch_data['image']\n",
    "            msks = batch_data['mask']\n",
    "            \n",
    "            imgs = imgs.to(device)\n",
    "            msks = msks.to(device)\n",
    "            \n",
    "            preds = model(imgs)\n",
    "            \n",
    "            # evaluate by metrics\n",
    "            preds_ = torch.argmax(preds, 1, keepdim=False).float()\n",
    "            msks_ = torch.argmax(msks, 1, keepdim=False)\n",
    "            evaluator.update(preds_, msks_)\n",
    "            \n",
    "    return evaluator"
   ]
  },
  {
   "cell_type": "code",
   "execution_count": 15,
   "metadata": {},
   "outputs": [
    {
     "name": "stdout",
     "output_type": "stream",
     "text": [
      "Number of parameters: 12266178\n"
     ]
    }
   ],
   "source": [
    "from models.dense_unet import DenseUNet as Net \n",
    "\n",
    "model = Net(config['model']['params']['n_classes'], downsample=True)\n",
    "\n",
    "torch.cuda.empty_cache()\n",
    "model = model.to(device)\n",
    "print(\"Number of parameters:\", sum(p.numel() for p in model.parameters() if p.requires_grad))\n",
    "\n",
    "os.makedirs(config['model']['save_dir'], exist_ok=True)\n",
    "model_path = f\"{config['model']['save_dir']}/model_state_dict.pt\"\n",
    "\n",
    "if config['model']['load_weights']:\n",
    "    model.load_state_dict(torch.load(model_path))\n",
    "    print(\"Loaded pre-trained weights...\")\n",
    "    \n",
    "    \n",
    "# criterion_dice = DiceLoss()\n",
    "criterion_dice = DiceLossWithLogtis()\n",
    "# criterion_ce  = BCELoss()\n",
    "criterion_ce  = CrossEntropyLoss()\n",
    "\n",
    "\n",
    "def criterion(preds, masks):\n",
    "    c_dice = criterion_dice(preds, masks)\n",
    "    c_ce = criterion_ce(preds, masks)\n",
    "    return 0.5*c_dice + 0.5*c_ce\n",
    "\n",
    "tr_prms = config['training']\n",
    "optimizer = globals()[tr_prms['optimizer']['name']](model.parameters(), **tr_prms['optimizer']['params'])\n",
    "scheduler = torch.optim.lr_scheduler.ReduceLROnPlateau(optimizer, 'min', **tr_prms['scheduler'])"
   ]
  },
  {
   "cell_type": "code",
   "execution_count": 16,
   "metadata": {},
   "outputs": [
    {
     "name": "stderr",
     "output_type": "stream",
     "text": [
      "Training) ep:000, batch:0117 -> curr_mean-loss:0.12240, mean_batch-loss:0.10837: : 117it [00:49,  2.36it/s]\n",
      "Training) ep:001, batch:0117 -> curr_mean-loss:0.10569, mean_batch-loss:0.09506: : 117it [00:47,  2.47it/s]\n",
      "Training) ep:002, batch:0117 -> curr_mean-loss:0.10170, mean_batch-loss:0.09949: : 117it [00:47,  2.47it/s]\n",
      "Training) ep:003, batch:0117 -> curr_mean-loss:0.09896, mean_batch-loss:0.09623: : 117it [00:47,  2.48it/s]\n",
      "Training) ep:004, batch:0117 -> curr_mean-loss:0.09762, mean_batch-loss:0.10197: : 117it [00:47,  2.47it/s]\n",
      "Training) ep:005, batch:0117 -> curr_mean-loss:0.09667, mean_batch-loss:0.09867: : 117it [00:47,  2.44it/s]\n",
      "Training) ep:006, batch:0117 -> curr_mean-loss:0.09574, mean_batch-loss:0.09077: : 117it [00:47,  2.45it/s]\n",
      "Training) ep:007, batch:0117 -> curr_mean-loss:0.09512, mean_batch-loss:0.09072: : 117it [00:47,  2.45it/s]\n",
      "Training) ep:008, batch:0117 -> curr_mean-loss:0.09460, mean_batch-loss:0.09248: : 117it [00:47,  2.45it/s]\n",
      "Training) ep:009, batch:0117 -> curr_mean-loss:0.09399, mean_batch-loss:0.09676: : 117it [00:47,  2.45it/s]\n",
      "Training) ep:010, batch:0117 -> curr_mean-loss:0.09423, mean_batch-loss:0.09031: : 117it [00:47,  2.45it/s]\n",
      "Training) ep:011, batch:0117 -> curr_mean-loss:0.09391, mean_batch-loss:0.09178: : 117it [00:47,  2.45it/s]\n",
      "Training) ep:012, batch:0117 -> curr_mean-loss:0.09338, mean_batch-loss:0.10372: : 117it [00:47,  2.44it/s]\n",
      "Training) ep:013, batch:0117 -> curr_mean-loss:0.09339, mean_batch-loss:0.09409: : 117it [00:47,  2.44it/s]\n",
      "Training) ep:014, batch:0117 -> curr_mean-loss:0.09313, mean_batch-loss:0.08930: : 117it [00:47,  2.44it/s]\n",
      "Training) ep:015, batch:0117 -> curr_mean-loss:0.09304, mean_batch-loss:0.09006: : 117it [00:47,  2.45it/s]\n",
      "Training) ep:016, batch:0117 -> curr_mean-loss:0.09306, mean_batch-loss:0.09230: : 117it [00:47,  2.45it/s]\n",
      "Training) ep:017, batch:0117 -> curr_mean-loss:0.09280, mean_batch-loss:0.09034: : 117it [00:47,  2.45it/s]\n",
      "Training) ep:018, batch:0117 -> curr_mean-loss:0.09261, mean_batch-loss:0.08934: : 117it [00:47,  2.44it/s]\n",
      "Training) ep:019, batch:0117 -> curr_mean-loss:0.09244, mean_batch-loss:0.08830: : 117it [00:47,  2.45it/s]\n",
      "Training) ep:020, batch:0117 -> curr_mean-loss:0.09229, mean_batch-loss:0.08796: : 117it [00:47,  2.46it/s]\n",
      "Training) ep:021, batch:0117 -> curr_mean-loss:0.09243, mean_batch-loss:0.08511: : 117it [00:47,  2.44it/s]\n",
      "Training) ep:022, batch:0117 -> curr_mean-loss:0.09221, mean_batch-loss:0.09134: : 117it [00:47,  2.45it/s]\n",
      "Training) ep:023, batch:0117 -> curr_mean-loss:0.09209, mean_batch-loss:0.09220: : 117it [00:47,  2.45it/s]\n",
      "Training) ep:024, batch:0117 -> curr_mean-loss:0.09270, mean_batch-loss:0.08749: : 117it [00:47,  2.44it/s]\n",
      "Training) ep:025, batch:0117 -> curr_mean-loss:0.09264, mean_batch-loss:0.09273: : 117it [00:48,  2.43it/s]\n",
      "Training) ep:026, batch:0117 -> curr_mean-loss:0.09269, mean_batch-loss:0.09433: : 117it [00:47,  2.44it/s]\n",
      "Training) ep:027, batch:0117 -> curr_mean-loss:0.09221, mean_batch-loss:0.09032: : 117it [00:47,  2.45it/s]\n",
      "Training) ep:028, batch:0117 -> curr_mean-loss:0.09246, mean_batch-loss:0.09047: : 117it [00:47,  2.44it/s]\n",
      "Training) ep:029, batch:0117 -> curr_mean-loss:0.09201, mean_batch-loss:0.08744: : 117it [00:47,  2.44it/s]\n",
      "Training) ep:030, batch:0117 -> curr_mean-loss:0.09186, mean_batch-loss:0.09116: : 117it [00:47,  2.45it/s]\n",
      "Training) ep:031, batch:0117 -> curr_mean-loss:0.09199, mean_batch-loss:0.08943: : 117it [00:47,  2.44it/s]\n",
      "Training) ep:032, batch:0117 -> curr_mean-loss:0.09180, mean_batch-loss:0.10081: : 117it [00:47,  2.44it/s]\n",
      "Training) ep:033, batch:0117 -> curr_mean-loss:0.09153, mean_batch-loss:0.09132: : 117it [00:47,  2.44it/s]\n",
      "Training) ep:034, batch:0117 -> curr_mean-loss:0.09159, mean_batch-loss:0.10760: : 117it [00:47,  2.44it/s]\n",
      "Training) ep:035, batch:0117 -> curr_mean-loss:0.09150, mean_batch-loss:0.09447: : 117it [00:47,  2.46it/s]\n",
      "Training) ep:036, batch:0117 -> curr_mean-loss:0.09154, mean_batch-loss:0.09174: : 117it [00:47,  2.46it/s]\n",
      "Training) ep:037, batch:0117 -> curr_mean-loss:0.09181, mean_batch-loss:0.09783: : 117it [00:47,  2.45it/s]\n",
      "Training) ep:038, batch:0117 -> curr_mean-loss:0.09174, mean_batch-loss:0.08996: : 117it [00:47,  2.45it/s]\n",
      "Training) ep:039, batch:0117 -> curr_mean-loss:0.09165, mean_batch-loss:0.09340: : 117it [00:47,  2.46it/s]\n",
      "Training) ep:040, batch:0117 -> curr_mean-loss:0.09170, mean_batch-loss:0.09796: : 117it [00:47,  2.45it/s]\n",
      "Training) ep:041, batch:0117 -> curr_mean-loss:0.09201, mean_batch-loss:0.12160: : 117it [00:47,  2.46it/s]\n",
      "Training) ep:042, batch:0117 -> curr_mean-loss:0.09159, mean_batch-loss:0.08899: : 117it [00:47,  2.45it/s]\n",
      "Training) ep:043, batch:0117 -> curr_mean-loss:0.09146, mean_batch-loss:0.09782: : 117it [00:47,  2.46it/s]\n",
      "Training) ep:044, batch:0117 -> curr_mean-loss:0.09156, mean_batch-loss:0.09800: : 117it [00:47,  2.46it/s]\n",
      "Training) ep:045, batch:0117 -> curr_mean-loss:0.09132, mean_batch-loss:0.08515: : 117it [00:47,  2.46it/s]\n",
      "Training) ep:046, batch:0117 -> curr_mean-loss:0.09095, mean_batch-loss:0.09232: : 117it [00:47,  2.46it/s]\n",
      "Training) ep:047, batch:0117 -> curr_mean-loss:0.09130, mean_batch-loss:0.09523: : 117it [00:47,  2.46it/s]\n",
      "Training) ep:048, batch:0117 -> curr_mean-loss:0.09135, mean_batch-loss:0.09050: : 117it [00:47,  2.46it/s]\n",
      "Training) ep:049, batch:0117 -> curr_mean-loss:0.09127, mean_batch-loss:0.09385: : 117it [00:47,  2.46it/s]\n",
      "Training) ep:050, batch:0117 -> curr_mean-loss:0.09117, mean_batch-loss:0.08472: : 117it [00:47,  2.46it/s]\n",
      "Training) ep:051, batch:0117 -> curr_mean-loss:0.09117, mean_batch-loss:0.09143: : 117it [00:47,  2.46it/s]\n",
      "Training) ep:052, batch:0117 -> curr_mean-loss:0.09112, mean_batch-loss:0.08962: : 117it [00:47,  2.46it/s]\n",
      "Training) ep:053, batch:0117 -> curr_mean-loss:0.09116, mean_batch-loss:0.09877: : 117it [00:47,  2.46it/s]\n",
      "Training) ep:054, batch:0117 -> curr_mean-loss:0.09083, mean_batch-loss:0.09825: : 117it [00:47,  2.47it/s]\n",
      "Training) ep:055, batch:0117 -> curr_mean-loss:0.09116, mean_batch-loss:0.09329: : 117it [00:47,  2.46it/s]\n",
      "Training) ep:056, batch:0117 -> curr_mean-loss:0.09086, mean_batch-loss:0.10174: : 117it [00:47,  2.45it/s]\n",
      "Training) ep:057, batch:0117 -> curr_mean-loss:0.09060, mean_batch-loss:0.09412: : 117it [00:47,  2.46it/s]\n",
      "Training) ep:058, batch:0117 -> curr_mean-loss:0.09053, mean_batch-loss:0.08937: : 117it [00:47,  2.46it/s]\n",
      "Training) ep:059, batch:0117 -> curr_mean-loss:0.09059, mean_batch-loss:0.09552: : 117it [00:47,  2.47it/s]\n",
      "Training) ep:060, batch:0117 -> curr_mean-loss:0.09052, mean_batch-loss:0.08088: : 117it [00:47,  2.46it/s]\n",
      "Training) ep:061, batch:0117 -> curr_mean-loss:0.09095, mean_batch-loss:0.08887: : 117it [00:47,  2.46it/s]\n",
      "Training) ep:062, batch:0117 -> curr_mean-loss:0.09041, mean_batch-loss:0.09010: : 117it [00:47,  2.46it/s]\n",
      "Training) ep:063, batch:0117 -> curr_mean-loss:0.09070, mean_batch-loss:0.09239: : 117it [00:47,  2.46it/s]\n",
      "Training) ep:064, batch:0117 -> curr_mean-loss:0.09051, mean_batch-loss:0.08487: : 117it [00:47,  2.46it/s]\n",
      "Training) ep:065, batch:0117 -> curr_mean-loss:0.09036, mean_batch-loss:0.08788: : 117it [00:47,  2.47it/s]\n",
      "Training) ep:066, batch:0117 -> curr_mean-loss:0.09060, mean_batch-loss:0.09491: : 117it [00:47,  2.46it/s]\n",
      "Training) ep:067, batch:0117 -> curr_mean-loss:0.09015, mean_batch-loss:0.09085: : 117it [00:47,  2.46it/s]\n",
      "Training) ep:068, batch:0117 -> curr_mean-loss:0.09010, mean_batch-loss:0.08541: : 117it [00:47,  2.46it/s]\n",
      "Training) ep:069, batch:0117 -> curr_mean-loss:0.09010, mean_batch-loss:0.09470: : 117it [00:47,  2.46it/s]\n",
      "Training) ep:070, batch:0117 -> curr_mean-loss:0.08983, mean_batch-loss:0.09416: : 117it [00:47,  2.45it/s]\n",
      "Training) ep:071, batch:0117 -> curr_mean-loss:0.08981, mean_batch-loss:0.08385: : 117it [00:47,  2.46it/s]\n",
      "Training) ep:072, batch:0117 -> curr_mean-loss:0.08968, mean_batch-loss:0.08745: : 117it [00:47,  2.46it/s]\n",
      "Training) ep:073, batch:0117 -> curr_mean-loss:0.08975, mean_batch-loss:0.09321: : 117it [00:47,  2.45it/s]\n",
      "Training) ep:074, batch:0117 -> curr_mean-loss:0.08986, mean_batch-loss:0.08437: : 117it [00:47,  2.46it/s]\n",
      "Training) ep:075, batch:0117 -> curr_mean-loss:0.08995, mean_batch-loss:0.10767: : 117it [00:47,  2.45it/s]\n",
      "Training) ep:076, batch:0117 -> curr_mean-loss:0.08948, mean_batch-loss:0.09221: : 117it [00:47,  2.46it/s]\n",
      "Training) ep:077, batch:0117 -> curr_mean-loss:0.08974, mean_batch-loss:0.08594: : 117it [00:47,  2.46it/s]\n",
      "Training) ep:078, batch:0117 -> curr_mean-loss:0.08988, mean_batch-loss:0.09048: : 117it [00:47,  2.46it/s]\n",
      "Training) ep:079, batch:0117 -> curr_mean-loss:0.08964, mean_batch-loss:0.08956: : 117it [00:47,  2.46it/s]\n",
      "Training) ep:080, batch:0117 -> curr_mean-loss:0.08952, mean_batch-loss:0.09004: : 117it [00:47,  2.46it/s]\n",
      "Training) ep:081, batch:0117 -> curr_mean-loss:0.08977, mean_batch-loss:0.09248: : 117it [00:47,  2.45it/s]\n",
      "Training) ep:082, batch:0117 -> curr_mean-loss:0.08959, mean_batch-loss:0.08153: : 117it [00:47,  2.46it/s]\n",
      "Training) ep:083, batch:0117 -> curr_mean-loss:0.08955, mean_batch-loss:0.10219: : 117it [00:47,  2.46it/s]\n",
      "Training) ep:084, batch:0117 -> curr_mean-loss:0.08977, mean_batch-loss:0.08860: : 117it [00:47,  2.46it/s]\n",
      "Training) ep:085, batch:0117 -> curr_mean-loss:0.08962, mean_batch-loss:0.09234: : 117it [00:47,  2.46it/s]\n",
      "Training) ep:086, batch:0117 -> curr_mean-loss:0.08964, mean_batch-loss:0.08745: : 117it [00:47,  2.45it/s]\n",
      "Training) ep:087, batch:0117 -> curr_mean-loss:0.08945, mean_batch-loss:0.08828: : 117it [00:48,  2.44it/s]\n",
      "Training) ep:088, batch:0117 -> curr_mean-loss:0.08941, mean_batch-loss:0.09705: : 117it [00:47,  2.45it/s]\n",
      "Training) ep:089, batch:0117 -> curr_mean-loss:0.08922, mean_batch-loss:0.08934: : 117it [00:47,  2.45it/s]\n",
      "Training) ep:090, batch:0117 -> curr_mean-loss:0.08916, mean_batch-loss:0.08277: : 117it [00:47,  2.46it/s]\n",
      "Training) ep:091, batch:0117 -> curr_mean-loss:0.08889, mean_batch-loss:0.08176: : 117it [00:47,  2.46it/s]\n",
      "Training) ep:092, batch:0117 -> curr_mean-loss:0.08933, mean_batch-loss:0.08964: : 117it [00:47,  2.45it/s]\n",
      "Training) ep:093, batch:0117 -> curr_mean-loss:0.08973, mean_batch-loss:0.08712: : 117it [00:47,  2.45it/s]\n",
      "Training) ep:094, batch:0117 -> curr_mean-loss:0.08907, mean_batch-loss:0.09178: : 117it [00:47,  2.46it/s]\n",
      "Training) ep:095, batch:0117 -> curr_mean-loss:0.08933, mean_batch-loss:0.08990: : 117it [00:47,  2.45it/s]\n",
      "Training) ep:096, batch:0117 -> curr_mean-loss:0.08948, mean_batch-loss:0.10050: : 117it [00:47,  2.46it/s]\n",
      "Training) ep:097, batch:0117 -> curr_mean-loss:0.08911, mean_batch-loss:0.08529: : 117it [00:47,  2.46it/s]\n",
      "Training) ep:098, batch:0117 -> curr_mean-loss:0.08932, mean_batch-loss:0.08302: : 117it [00:47,  2.46it/s]\n",
      "Training) ep:099, batch:0117 -> curr_mean-loss:0.08928, mean_batch-loss:0.09660: : 117it [00:47,  2.45it/s]\n"
     ]
    }
   ],
   "source": [
    "best_model, model, res = train(\n",
    "    model, \n",
    "    device, \n",
    "    train_dataloader,\n",
    "    val_dataloader,\n",
    "    config,\n",
    "    \n",
    "    criterion,\n",
    "    optimizer,\n",
    "    scheduler,\n",
    "\n",
    "    save_dir = config['model']['save_dir'],\n",
    "    save_file_id = None,\n",
    ")"
   ]
  },
  {
   "cell_type": "code",
   "execution_count": 17,
   "metadata": {},
   "outputs": [
    {
     "name": "stderr",
     "output_type": "stream",
     "text": [
      "100%|██████████| 68/68 [00:06<00:00, 10.89it/s]\n"
     ]
    },
    {
     "data": {
      "text/plain": [
       "{'test_metrics/MulticlassF1Score': tensor(0.9759, device='cuda:0'),\n",
       " 'test_metrics/MulticlassAccuracy': tensor(0.9759, device='cuda:0'),\n",
       " 'test_metrics/Dice': tensor(0.9113, device='cuda:0'),\n",
       " 'test_metrics/MulticlassPrecision': tensor(0.9759, device='cuda:0'),\n",
       " 'test_metrics/MulticlassSpecificity': tensor(0.9759, device='cuda:0'),\n",
       " 'test_metrics/MulticlassRecall': tensor(0.9759, device='cuda:0'),\n",
       " 'test_metrics/MulticlassJaccardIndex': tensor(0.9048, device='cuda:0')}"
      ]
     },
     "execution_count": 17,
     "metadata": {},
     "output_type": "execute_result"
    }
   ],
   "source": [
    "te_metrics = test(best_model, test_dataloader)\n",
    "te_metrics.compute()"
   ]
  },
  {
   "cell_type": "code",
   "execution_count": 18,
   "metadata": {},
   "outputs": [
    {
     "data": {
      "text/plain": [
       "'/home/gmahalingam/My.Explorations/unets/saved_models/nuclei2018_denseunet'"
      ]
     },
     "execution_count": 18,
     "metadata": {},
     "output_type": "execute_result"
    }
   ],
   "source": [
    "f\"{config['model']['save_dir']}\""
   ]
  },
  {
   "cell_type": "code",
   "execution_count": 20,
   "metadata": {},
   "outputs": [
    {
     "name": "stdout",
     "output_type": "stream",
     "text": [
      "Loaded best model weights...\n"
     ]
    }
   ],
   "source": [
    "best_model = Net(config['model']['params']['n_classes'], downsample=True)\n",
    "\n",
    "torch.cuda.empty_cache()\n",
    "best_model = best_model.to(device)\n",
    "\n",
    "fn = \"best_model_state_dict.pt\"\n",
    "os.makedirs(config['model']['save_dir'], exist_ok=True)\n",
    "model_path = f\"{config['model']['save_dir']}/{fn}\"\n",
    "\n",
    "best_model.load_state_dict(torch.load(model_path))\n",
    "print(\"Loaded best model weights...\")"
   ]
  },
  {
   "cell_type": "code",
   "execution_count": 21,
   "metadata": {},
   "outputs": [
    {
     "name": "stderr",
     "output_type": "stream",
     "text": [
      "100%|██████████| 68/68 [00:06<00:00, 10.07it/s]\n"
     ]
    },
    {
     "data": {
      "text/plain": [
       "{'test_metrics/MulticlassF1Score': tensor(0.9759, device='cuda:0'),\n",
       " 'test_metrics/MulticlassAccuracy': tensor(0.9759, device='cuda:0'),\n",
       " 'test_metrics/Dice': tensor(0.9113, device='cuda:0'),\n",
       " 'test_metrics/MulticlassPrecision': tensor(0.9759, device='cuda:0'),\n",
       " 'test_metrics/MulticlassSpecificity': tensor(0.9759, device='cuda:0'),\n",
       " 'test_metrics/MulticlassRecall': tensor(0.9759, device='cuda:0'),\n",
       " 'test_metrics/MulticlassJaccardIndex': tensor(0.9048, device='cuda:0')}"
      ]
     },
     "execution_count": 21,
     "metadata": {},
     "output_type": "execute_result"
    }
   ],
   "source": [
    "te_metrics = test(best_model, test_dataloader)\n",
    "te_metrics.compute()"
   ]
  },
  {
   "cell_type": "code",
   "execution_count": 22,
   "metadata": {},
   "outputs": [
    {
     "data": {
      "image/png": "[encoded data removed]",
      "text/plain": [
       "<Figure size 1152x216 with 4 Axes>"
      ]
     },
     "metadata": {
      "needs_background": "light"
     },
     "output_type": "display_data"
    }
   ],
   "source": [
    "result_file_path = f\"{config['model']['save_dir']}/result.json\"\n",
    "with open(result_file_path, 'r') as f:\n",
    "    results = json.loads(''.join(f.readlines()))\n",
    "epochs_info = results['epochs_info']\n",
    "\n",
    "tr_losses = [d['tr_loss'] for d in epochs_info]\n",
    "vl_losses = [d['vl_loss'] for d in epochs_info]\n",
    "tr_dice = [d['tr_metrics']['train_metrics/Dice'] for d in epochs_info]\n",
    "vl_dice = [d['vl_metrics']['valid_metrics/Dice'] for d in epochs_info]\n",
    "tr_js = [d['tr_metrics']['train_metrics/MulticlassJaccardIndex'] for d in epochs_info]\n",
    "vl_js = [d['vl_metrics']['valid_metrics/MulticlassJaccardIndex'] for d in epochs_info]\n",
    "tr_acc = [d['tr_metrics']['train_metrics/MulticlassAccuracy'] for d in epochs_info]\n",
    "vl_acc = [d['vl_metrics']['valid_metrics/MulticlassAccuracy'] for d in epochs_info]\n",
    "\n",
    "\n",
    "_, axs = plt.subplots(1, 4, figsize=[16,3])\n",
    "\n",
    "axs[0].set_title(\"Loss\")\n",
    "axs[0].plot(tr_losses, 'r-', label=\"train loss\")\n",
    "axs[0].plot(vl_losses, 'b-', label=\"validatiton loss\")\n",
    "axs[0].legend()\n",
    "\n",
    "axs[1].set_title(\"Dice score\")\n",
    "axs[1].plot(tr_dice, 'r-', label=\"train dice\")\n",
    "axs[1].plot(vl_dice, 'b-', label=\"validation dice\")\n",
    "axs[1].legend()\n",
    "\n",
    "axs[2].set_title(\"Jaccard Similarity\")\n",
    "axs[2].plot(tr_js, 'r-', label=\"train JaccardIndex\")\n",
    "axs[2].plot(vl_js, 'b-', label=\"validatiton JaccardIndex\")\n",
    "axs[2].legend()\n",
    "\n",
    "axs[3].set_title(\"Accuracy\")\n",
    "axs[3].plot(tr_acc, 'r-', label=\"train Accuracy\")\n",
    "axs[3].plot(vl_acc, 'b-', label=\"validation Accuracy\")\n",
    "axs[3].legend()\n",
    "\n",
    "plt.show()"
   ]
  },
  {
   "cell_type": "code",
   "execution_count": 23,
   "metadata": {},
   "outputs": [
    {
     "name": "stderr",
     "output_type": "stream",
     "text": [
      "100%|██████████| 68/68 [00:15<00:00,  4.27it/s]\n"
     ]
    }
   ],
   "source": [
    "from PIL import Image\n",
    "import cv2\n",
    "def skin_plot(img, gt, pred):\n",
    "    img = np.array(img)\n",
    "    gt = np.array(gt)\n",
    "    pred = np.array(pred)\n",
    "    edged_test = cv2.Canny(pred, 100, 255)\n",
    "    contours_test, _ = cv2.findContours(edged_test, cv2.RETR_TREE, cv2.CHAIN_APPROX_SIMPLE)\n",
    "    edged_gt = cv2.Canny(gt, 100, 255)\n",
    "    contours_gt, _ = cv2.findContours(edged_gt, cv2.RETR_TREE, cv2.CHAIN_APPROX_SIMPLE)\n",
    "    for cnt_test in contours_test:\n",
    "        cv2.drawContours(img, [cnt_test], -1, (0, 0, 255), 1)\n",
    "    for cnt_gt in contours_gt:\n",
    "        cv2.drawContours(img, [cnt_gt], -1, (0,255,0), 1)\n",
    "    return img\n",
    "\n",
    "#---------------------------------------------------------------------------------------------\n",
    "\n",
    "\n",
    "save_imgs_dir = f\"{config['model']['save_dir']}/visualized\"\n",
    "\n",
    "if not os.path.isdir(save_imgs_dir):\n",
    "    os.mkdir(save_imgs_dir)\n",
    "\n",
    "with torch.no_grad():\n",
    "    for batch in tqdm(test_dataloader):\n",
    "        imgs = batch['image']\n",
    "        msks = batch['mask']\n",
    "        ids = batch['id']\n",
    "        \n",
    "        preds = best_model(imgs.to(device))\n",
    "        \n",
    "        txm = imgs.cpu().numpy()\n",
    "        tbm = torch.argmax(msks, 1).cpu().numpy()\n",
    "        tpm = torch.argmax(preds, 1).cpu().numpy()\n",
    "        tid = ids\n",
    "        \n",
    "        for idx in range(len(tbm)):\n",
    "            img = np.moveaxis(txm[idx, :3], 0, -1)*255.\n",
    "            img = np.ascontiguousarray(img, dtype=np.uint8)\n",
    "            gt = np.uint8(tbm[idx]*255.)\n",
    "            pred = np.where(tpm[idx]>0.5, 255, 0)\n",
    "            pred = np.ascontiguousarray(pred, dtype=np.uint8)\n",
    "            \n",
    "            res_img = skin_plot(img, gt, pred)\n",
    "            \n",
    "            fid = tid[idx]\n",
    "            Image.fromarray(img).save(f\"{save_imgs_dir}/{fid}_img.png\")\n",
    "            Image.fromarray(res_img).save(f\"{save_imgs_dir}/{fid}_img_gt_pred.png\")\n"
   ]
  }
 ],
 "metadata": {
  "kernelspec": {
   "display_name": "unets",
   "language": "python",
   "name": "python3"
  },
  "language_info": {
   "codemirror_mode": {
    "name": "ipython",
    "version": 3
   },
   "file_extension": ".py",
   "mimetype": "text/x-python",
   "name": "python",
   "nbconvert_exporter": "python",
   "pygments_lexer": "ipython3",
   "version": "3.8.15 (default, Nov 24 2022, 15:19:38) \n[GCC 11.2.0]"
  },
  "orig_nbformat": 4,
  "vscode": {
   "interpreter": {
    "hash": "601589857ec691cfe143dbd3c48cd0ca4bb2f1360d79ee7a0f0a8f87dd272128"
   }
  }
 },
 "nbformat": 4,
 "nbformat_minor": 2
}
