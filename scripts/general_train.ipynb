{
 "cells": [
  {
   "cell_type": "code",
   "execution_count": 1,
   "metadata": {},
   "outputs": [],
   "source": [
    "%load_ext autoreload\n",
    "%autoreload 2"
   ]
  },
  {
   "cell_type": "code",
   "execution_count": 20,
   "metadata": {},
   "outputs": [],
   "source": [
    "from train_and_test import train, test, validate, prepare_datasets, get_metrics, make_serializeable_metrics, device\n",
    "import os\n",
    "import torch\n",
    "\n",
    "from models._uctransnet.UCTransNet import UCTransNet as Net\n",
    "import models._uctransnet.Config as uct_config\n",
    "from torch.nn import BCELoss, CrossEntropyLoss\n",
    "from losses import DiceLoss, DiceLossWithLogtis\n",
    "from torch.optim import Adam, SGD\n",
    "\n",
    "import json\n",
    "import matplotlib.pyplot as plt\n",
    "import numpy as np\n",
    "from tqdm import tqdm\n",
    "\n",
    "\n",
    "from utils import (\n",
    "    show_image_and_mask,\n",
    "    load_config,\n",
    "    _print,\n",
    ")\n",
    "\n",
    "import warnings\n",
    "warnings.filterwarnings(\"ignore\")"
   ]
  },
  {
   "cell_type": "code",
   "execution_count": 3,
   "metadata": {},
   "outputs": [],
   "source": [
    "# load config\n",
    "\n",
    "CONFIG_NAME = \"cellpose_uctransnet.yaml\"\n",
    "CONFIG_FILE_PATH = os.path.join(\"../configs\", CONFIG_NAME)\n",
    "\n",
    "config = load_config(CONFIG_FILE_PATH)"
   ]
  },
  {
   "cell_type": "code",
   "execution_count": 4,
   "metadata": {},
   "outputs": [],
   "source": [
    "train_dataloader, val_dataloader, test_dataloader = prepare_datasets(config)"
   ]
  },
  {
   "cell_type": "code",
   "execution_count": 5,
   "metadata": {},
   "outputs": [],
   "source": [
    "train_metrics, valid_metrics, test_metrics = get_metrics(config['model']['params']['n_classes'])"
   ]
  },
  {
   "cell_type": "code",
   "execution_count": 6,
   "metadata": {},
   "outputs": [],
   "source": [
    "def make_model(config):\n",
    "    \n",
    "    config_vit = uct_config.get_CTranS_config()\n",
    "    model = Net(config_vit, **config['model']['params'])\n",
    "\n",
    "    torch.cuda.empty_cache()\n",
    "    model = model.to(device)\n",
    "    print(\"Number of parameters:\", sum(p.numel() for p in model.parameters() if p.requires_grad))\n",
    "\n",
    "    if config['model']['load_weights']:\n",
    "        model.load_state_dict(torch.load(model_path))\n",
    "        print(\"Loaded pre-trained weights...\")\n",
    "    return model\n"
   ]
  },
  {
   "cell_type": "code",
   "execution_count": 7,
   "metadata": {},
   "outputs": [
    {
     "name": "stdout",
     "output_type": "stream",
     "text": [
      "Number of parameters: 66430722\n"
     ]
    }
   ],
   "source": [
    "# define the model \n",
    "\n",
    "model = make_model(config)\n",
    "\n",
    "\n",
    "# prepare output directories\n",
    "os.makedirs(config['model']['save_dir'], exist_ok=True)\n",
    "model_path = f\"{config['model']['save_dir']}/model_state_dict.pt\"\n",
    "\n",
    "    \n",
    "# criterion_dice = DiceLoss()\n",
    "criterion_dice = DiceLossWithLogtis()\n",
    "# criterion_ce  = BCELoss()\n",
    "criterion_ce  = CrossEntropyLoss()\n",
    "\n",
    "\n",
    "def criterion(preds, masks):\n",
    "    c_dice = criterion_dice(preds, masks)\n",
    "    c_ce = criterion_ce(preds, masks)\n",
    "    return 0.5*c_dice + 0.5*c_ce\n",
    "\n",
    "tr_prms = config['training']\n",
    "optimizer = globals()[tr_prms['optimizer']['name']](model.parameters(), **tr_prms['optimizer']['params'])\n",
    "scheduler = torch.optim.lr_scheduler.ReduceLROnPlateau(optimizer, 'min', **tr_prms['scheduler'])"
   ]
  },
  {
   "cell_type": "code",
   "execution_count": 9,
   "metadata": {},
   "outputs": [
    {
     "name": "stdout",
     "output_type": "stream",
     "text": [
      "\u001b[0m\u001b[4m\u001b[96mConfig:\u001b[0m\n",
      "{\n",
      "  \"run\": {\n",
      "    \"mode\": \"train\",\n",
      "    \"device\": \"gpu\"\n",
      "  },\n",
      "  \"transforms\": \"none\",\n",
      "  \"dataset\": {\n",
      "    \"class_name\": \"nuclei_dataset\",\n",
      "    \"input_size\": 224,\n",
      "    \"data_dir\": \"/home/gmahalingam/My.Explorations/datasets/data-science-bowl-2018/data\",\n",
      "    \"training\": {\n",
      "      \"params\": {\n",
      "        \"data_dir\": \"/home/gmahalingam/My.Explorations/datasets/data-science-bowl-2018/data\"\n",
      "      }\n",
      "    },\n",
      "    \"validation\": {\n",
      "      \"params\": {\n",
      "        \"data_dir\": \"/home/gmahalingam/My.Explorations/datasets/data-science-bowl-2018/data\"\n",
      "      }\n",
      "    },\n",
      "    \"number_classes\": 2\n",
      "  },\n",
      "  \"data_loader\": {\n",
      "    \"train\": {\n",
      "      \"batch_size\": 8,\n",
      "      \"shuffle\": true,\n",
      "      \"num_workers\": 8,\n",
      "      \"pin_memory\": true\n",
      "    },\n",
      "    \"validation\": {\n",
      "      \"batch_size\": 8,\n",
      "      \"shuffle\": false,\n",
      "      \"num_workers\": 8,\n",
      "      \"pin_memory\": true\n",
      "    },\n",
      "    \"test\": {\n",
      "      \"batch_size\": 8,\n",
      "      \"shuffle\": false,\n",
      "      \"num_workers\": 4,\n",
      "      \"pin_memory\": false\n",
      "    }\n",
      "  },\n",
      "  \"training\": {\n",
      "    \"optimizer\": {\n",
      "      \"name\": \"Adam\",\n",
      "      \"params\": {\n",
      "        \"lr\": 0.0001\n",
      "      }\n",
      "    },\n",
      "    \"criterion\": {\n",
      "      \"name\": \"DiceLoss\",\n",
      "      \"params\": {}\n",
      "    },\n",
      "    \"scheduler\": {\n",
      "      \"factor\": 0.5,\n",
      "      \"patience\": 10\n",
      "    },\n",
      "    \"epochs\": 100\n",
      "  },\n",
      "  \"model\": {\n",
      "    \"save_dir\": \"/home/gmahalingam/My.Explorations/unets/saved_models/nuclei2018_uctransnet\",\n",
      "    \"load_weights\": false,\n",
      "    \"name\": \"UCTransNet\",\n",
      "    \"params\": {\n",
      "      \"n_channels\": 3,\n",
      "      \"n_classes\": 2\n",
      "    }\n",
      "  }\n",
      "}\n",
      "~-~-~-~-~-~-~-~-~-~-~-~-~-~-~-~-~-~-~-~- \n",
      "\n",
      "Torch device: cuda\n"
     ]
    },
    {
     "name": "stderr",
     "output_type": "stream",
     "text": [
      "Training) ep:000, batch:0048 -> curr_mean-loss:0.05902, mean_batch-loss:0.22817: : 48it [00:46,  1.03it/s]\n",
      "Training) ep:001, batch:0048 -> curr_mean-loss:0.05769, mean_batch-loss:0.23810: : 48it [00:46,  1.03it/s]\n",
      "Training) ep:002, batch:0048 -> curr_mean-loss:0.05695, mean_batch-loss:0.23958: : 48it [00:46,  1.03it/s]\n",
      "Training) ep:003, batch:0048 -> curr_mean-loss:0.05631, mean_batch-loss:0.19679: : 48it [00:46,  1.02it/s]\n",
      "Training) ep:004, batch:0048 -> curr_mean-loss:0.05616, mean_batch-loss:0.19305: : 48it [00:47,  1.01it/s]\n",
      "Training) ep:005, batch:0048 -> curr_mean-loss:0.05593, mean_batch-loss:0.21061: : 48it [00:47,  1.01it/s]\n",
      "Training) ep:006, batch:0048 -> curr_mean-loss:0.05583, mean_batch-loss:0.19238: : 48it [00:48,  1.00s/it]\n",
      "Training) ep:007, batch:0048 -> curr_mean-loss:0.05563, mean_batch-loss:0.20906: : 48it [00:48,  1.00s/it]\n",
      "Training) ep:008, batch:0048 -> curr_mean-loss:0.05620, mean_batch-loss:0.31713: : 48it [00:48,  1.00s/it]\n",
      "Training) ep:009, batch:0048 -> curr_mean-loss:0.05589, mean_batch-loss:0.18324: : 48it [00:48,  1.01s/it]\n",
      "Training) ep:010, batch:0048 -> curr_mean-loss:0.05557, mean_batch-loss:0.20827: : 48it [00:48,  1.00s/it]\n",
      "Training) ep:011, batch:0048 -> curr_mean-loss:0.05603, mean_batch-loss:0.28038: : 48it [00:48,  1.01s/it]\n",
      "Training) ep:012, batch:0048 -> curr_mean-loss:0.05591, mean_batch-loss:0.26102: : 48it [00:48,  1.01s/it]\n",
      "Training) ep:013, batch:0048 -> curr_mean-loss:0.05591, mean_batch-loss:0.19439: : 48it [00:48,  1.01s/it]\n",
      "Training) ep:014, batch:0048 -> curr_mean-loss:0.05567, mean_batch-loss:0.23111: : 48it [00:48,  1.01s/it]\n",
      "Training) ep:015, batch:0048 -> curr_mean-loss:0.05540, mean_batch-loss:0.18438: : 48it [00:48,  1.01s/it]\n",
      "Training) ep:016, batch:0048 -> curr_mean-loss:0.05539, mean_batch-loss:0.25129: : 48it [00:48,  1.01s/it]\n",
      "Training) ep:017, batch:0048 -> curr_mean-loss:0.05522, mean_batch-loss:0.17056: : 48it [00:48,  1.01s/it]\n",
      "Training) ep:018, batch:0048 -> curr_mean-loss:0.05558, mean_batch-loss:0.25302: : 48it [00:48,  1.01s/it]\n",
      "Training) ep:019, batch:0048 -> curr_mean-loss:0.05582, mean_batch-loss:0.28487: : 48it [00:48,  1.02s/it]\n",
      "Training) ep:020, batch:0048 -> curr_mean-loss:0.05598, mean_batch-loss:0.32080: : 48it [00:48,  1.02s/it]\n",
      "Training) ep:021, batch:0048 -> curr_mean-loss:0.05534, mean_batch-loss:0.19820: : 48it [00:48,  1.02s/it]\n",
      "Training) ep:022, batch:0048 -> curr_mean-loss:0.05572, mean_batch-loss:0.28734: : 48it [00:48,  1.01s/it]\n",
      "Training) ep:023, batch:0048 -> curr_mean-loss:0.05573, mean_batch-loss:0.25616: : 48it [00:48,  1.02s/it]\n",
      "Training) ep:024, batch:0048 -> curr_mean-loss:0.05595, mean_batch-loss:0.19101: : 48it [00:48,  1.01s/it]\n",
      "Training) ep:025, batch:0048 -> curr_mean-loss:0.05557, mean_batch-loss:0.30372: : 48it [00:48,  1.02s/it]\n",
      "Training) ep:026, batch:0048 -> curr_mean-loss:0.05539, mean_batch-loss:0.24974: : 48it [00:48,  1.02s/it]\n",
      "Training) ep:027, batch:0048 -> curr_mean-loss:0.05532, mean_batch-loss:0.28162: : 48it [00:48,  1.02s/it]\n",
      "Training) ep:028, batch:0048 -> curr_mean-loss:0.05549, mean_batch-loss:0.27927: : 48it [00:48,  1.02s/it]\n",
      "Training) ep:029, batch:0048 -> curr_mean-loss:0.05566, mean_batch-loss:0.31395: : 48it [00:48,  1.02s/it]\n",
      "Training) ep:030, batch:0048 -> curr_mean-loss:0.05499, mean_batch-loss:0.19643: : 48it [00:48,  1.02s/it]\n",
      "Training) ep:031, batch:0048 -> curr_mean-loss:0.05498, mean_batch-loss:0.18501: : 48it [00:48,  1.02s/it]\n",
      "Training) ep:032, batch:0048 -> curr_mean-loss:0.05484, mean_batch-loss:0.20699: : 48it [00:48,  1.02s/it]\n",
      "Training) ep:033, batch:0048 -> curr_mean-loss:0.05509, mean_batch-loss:0.20222: : 48it [00:48,  1.01s/it]\n",
      "Training) ep:034, batch:0048 -> curr_mean-loss:0.05523, mean_batch-loss:0.22251: : 48it [00:48,  1.02s/it]\n",
      "Training) ep:035, batch:0048 -> curr_mean-loss:0.05509, mean_batch-loss:0.25898: : 48it [00:48,  1.02s/it]\n",
      "Training) ep:036, batch:0048 -> curr_mean-loss:0.05525, mean_batch-loss:0.27910: : 48it [00:48,  1.02s/it]\n",
      "Training) ep:037, batch:0048 -> curr_mean-loss:0.05536, mean_batch-loss:0.30295: : 48it [00:48,  1.01s/it]\n",
      "Training) ep:038, batch:0048 -> curr_mean-loss:0.05464, mean_batch-loss:0.19068: : 48it [00:48,  1.02s/it]\n",
      "Training) ep:039, batch:0048 -> curr_mean-loss:0.05508, mean_batch-loss:0.21577: : 48it [00:48,  1.01s/it]\n",
      "Training) ep:040, batch:0048 -> curr_mean-loss:0.05484, mean_batch-loss:0.22932: : 48it [00:48,  1.02s/it]\n",
      "Training) ep:041, batch:0048 -> curr_mean-loss:0.05446, mean_batch-loss:0.18242: : 48it [00:48,  1.01s/it]\n",
      "Training) ep:042, batch:0048 -> curr_mean-loss:0.05478, mean_batch-loss:0.24892: : 48it [00:48,  1.02s/it]\n",
      "Training) ep:043, batch:0048 -> curr_mean-loss:0.05504, mean_batch-loss:0.25105: : 48it [00:48,  1.02s/it]\n",
      "Training) ep:044, batch:0048 -> curr_mean-loss:0.05460, mean_batch-loss:0.18560: : 48it [00:48,  1.01s/it]\n",
      "Training) ep:045, batch:0048 -> curr_mean-loss:0.05449, mean_batch-loss:0.22401: : 48it [00:48,  1.02s/it]\n",
      "Training) ep:046, batch:0048 -> curr_mean-loss:0.05479, mean_batch-loss:0.28817: : 48it [00:48,  1.02s/it]\n",
      "Training) ep:047, batch:0048 -> curr_mean-loss:0.05425, mean_batch-loss:0.20102: : 48it [00:48,  1.01s/it]\n",
      "Training) ep:048, batch:0048 -> curr_mean-loss:0.05430, mean_batch-loss:0.17947: : 48it [00:48,  1.02s/it]\n",
      "Training) ep:049, batch:0048 -> curr_mean-loss:0.05460, mean_batch-loss:0.21402: : 48it [00:48,  1.02s/it]\n",
      "Training) ep:050, batch:0048 -> curr_mean-loss:0.05457, mean_batch-loss:0.23240: : 48it [00:48,  1.01s/it]\n",
      "Training) ep:051, batch:0048 -> curr_mean-loss:0.05428, mean_batch-loss:0.20690: : 48it [00:48,  1.02s/it]\n",
      "Training) ep:052, batch:0048 -> curr_mean-loss:0.05447, mean_batch-loss:0.18180: : 48it [00:48,  1.02s/it]\n",
      "Training) ep:053, batch:0048 -> curr_mean-loss:0.05420, mean_batch-loss:0.21939: : 48it [00:48,  1.02s/it]\n",
      "Training) ep:054, batch:0048 -> curr_mean-loss:0.05433, mean_batch-loss:0.20045: : 48it [00:48,  1.01s/it]\n",
      "Training) ep:055, batch:0048 -> curr_mean-loss:0.05410, mean_batch-loss:0.20289: : 48it [00:48,  1.01s/it]\n",
      "Training) ep:056, batch:0048 -> curr_mean-loss:0.05412, mean_batch-loss:0.20960: : 48it [00:48,  1.02s/it]\n",
      "Training) ep:057, batch:0048 -> curr_mean-loss:0.05436, mean_batch-loss:0.25542: : 48it [00:48,  1.01s/it]\n",
      "Training) ep:058, batch:0048 -> curr_mean-loss:0.05386, mean_batch-loss:0.19866: : 48it [00:48,  1.02s/it]\n",
      "Training) ep:059, batch:0048 -> curr_mean-loss:0.05379, mean_batch-loss:0.18435: : 48it [00:48,  1.01s/it]\n",
      "Training) ep:060, batch:0048 -> curr_mean-loss:0.05388, mean_batch-loss:0.17471: : 48it [00:48,  1.01s/it]\n",
      "Training) ep:061, batch:0048 -> curr_mean-loss:0.05422, mean_batch-loss:0.19773: : 48it [00:48,  1.02s/it]\n",
      "Training) ep:062, batch:0048 -> curr_mean-loss:0.05372, mean_batch-loss:0.27517: : 48it [00:48,  1.02s/it]\n",
      "Training) ep:063, batch:0048 -> curr_mean-loss:0.05388, mean_batch-loss:0.21135: : 48it [00:48,  1.02s/it]\n",
      "Training) ep:064, batch:0048 -> curr_mean-loss:0.05370, mean_batch-loss:0.23653: : 48it [00:48,  1.01s/it]\n",
      "Training) ep:065, batch:0048 -> curr_mean-loss:0.05386, mean_batch-loss:0.22618: : 48it [00:48,  1.02s/it]\n",
      "Training) ep:066, batch:0048 -> curr_mean-loss:0.05372, mean_batch-loss:0.33258: : 48it [00:48,  1.01s/it]\n",
      "Training) ep:067, batch:0048 -> curr_mean-loss:0.05368, mean_batch-loss:0.19159: : 48it [00:48,  1.02s/it]\n",
      "Training) ep:068, batch:0048 -> curr_mean-loss:0.05406, mean_batch-loss:0.30371: : 48it [00:48,  1.01s/it]\n",
      "Training) ep:069, batch:0048 -> curr_mean-loss:0.05367, mean_batch-loss:0.21308: : 48it [00:48,  1.02s/it]\n",
      "Training) ep:070, batch:0048 -> curr_mean-loss:0.05383, mean_batch-loss:0.26329: : 48it [00:48,  1.02s/it]\n",
      "Training) ep:071, batch:0048 -> curr_mean-loss:0.05390, mean_batch-loss:0.24951: : 48it [00:48,  1.01s/it]\n",
      "Training) ep:072, batch:0048 -> curr_mean-loss:0.05329, mean_batch-loss:0.23147: : 48it [00:48,  1.01s/it]\n",
      "Training) ep:073, batch:0048 -> curr_mean-loss:0.05357, mean_batch-loss:0.21159: : 48it [00:48,  1.02s/it]\n",
      "Training) ep:074, batch:0048 -> curr_mean-loss:0.05340, mean_batch-loss:0.19984: : 48it [00:48,  1.01s/it]\n",
      "Training) ep:075, batch:0048 -> curr_mean-loss:0.05316, mean_batch-loss:0.20177: : 48it [00:48,  1.01s/it]\n",
      "Training) ep:076, batch:0048 -> curr_mean-loss:0.05348, mean_batch-loss:0.20174: : 48it [00:48,  1.01s/it]\n",
      "Training) ep:077, batch:0048 -> curr_mean-loss:0.05330, mean_batch-loss:0.21846: : 48it [00:48,  1.02s/it]\n",
      "Training) ep:078, batch:0048 -> curr_mean-loss:0.05331, mean_batch-loss:0.18703: : 48it [00:48,  1.01s/it]\n",
      "Training) ep:079, batch:0048 -> curr_mean-loss:0.05310, mean_batch-loss:0.20978: : 48it [00:48,  1.02s/it]\n",
      "Training) ep:080, batch:0048 -> curr_mean-loss:0.05349, mean_batch-loss:0.19046: : 48it [00:48,  1.01s/it]\n",
      "Training) ep:081, batch:0048 -> curr_mean-loss:0.05346, mean_batch-loss:0.28070: : 48it [00:48,  1.01s/it]\n",
      "Training) ep:082, batch:0048 -> curr_mean-loss:0.05348, mean_batch-loss:0.18551: : 48it [00:48,  1.02s/it]\n",
      "Training) ep:083, batch:0048 -> curr_mean-loss:0.05322, mean_batch-loss:0.25676: : 48it [00:48,  1.02s/it]\n",
      "Training) ep:084, batch:0048 -> curr_mean-loss:0.05317, mean_batch-loss:0.21259: : 48it [00:48,  1.02s/it]\n",
      "Training) ep:085, batch:0048 -> curr_mean-loss:0.05380, mean_batch-loss:0.35110: : 48it [00:48,  1.01s/it]\n",
      "Training) ep:086, batch:0048 -> curr_mean-loss:0.05293, mean_batch-loss:0.18785: : 48it [00:48,  1.02s/it]\n",
      "Training) ep:087, batch:0048 -> curr_mean-loss:0.05277, mean_batch-loss:0.18883: : 48it [00:48,  1.01s/it]\n",
      "Training) ep:088, batch:0048 -> curr_mean-loss:0.05286, mean_batch-loss:0.17578: : 48it [00:48,  1.02s/it]\n",
      "Training) ep:089, batch:0048 -> curr_mean-loss:0.05295, mean_batch-loss:0.20094: : 48it [00:48,  1.01s/it]\n",
      "Training) ep:090, batch:0048 -> curr_mean-loss:0.05331, mean_batch-loss:0.28239: : 48it [00:48,  1.02s/it]\n",
      "Training) ep:091, batch:0048 -> curr_mean-loss:0.05322, mean_batch-loss:0.18265: : 48it [00:48,  1.01s/it]\n",
      "Training) ep:092, batch:0048 -> curr_mean-loss:0.05290, mean_batch-loss:0.18458: : 48it [00:48,  1.01s/it]\n",
      "Training) ep:093, batch:0048 -> curr_mean-loss:0.05346, mean_batch-loss:0.21522: : 48it [00:48,  1.01s/it]\n",
      "Training) ep:094, batch:0048 -> curr_mean-loss:0.05307, mean_batch-loss:0.17800: : 48it [00:48,  1.02s/it]\n",
      "Training) ep:095, batch:0048 -> curr_mean-loss:0.05298, mean_batch-loss:0.17301: : 48it [00:48,  1.02s/it]\n",
      "Training) ep:096, batch:0048 -> curr_mean-loss:0.05295, mean_batch-loss:0.23539: : 48it [00:48,  1.01s/it]\n",
      "Training) ep:097, batch:0048 -> curr_mean-loss:0.05275, mean_batch-loss:0.17402: : 48it [00:48,  1.02s/it]\n",
      "Training) ep:098, batch:0048 -> curr_mean-loss:0.05270, mean_batch-loss:0.20279: : 48it [00:48,  1.02s/it]\n",
      "Training) ep:099, batch:0048 -> curr_mean-loss:0.05272, mean_batch-loss:0.21491: : 48it [00:48,  1.01s/it]\n"
     ]
    }
   ],
   "source": [
    "best_model, model, res = train(\n",
    "    model, \n",
    "    device, \n",
    "    train_dataloader,\n",
    "    val_dataloader,\n",
    "    config,\n",
    "    \n",
    "    criterion,\n",
    "    optimizer,\n",
    "    scheduler,\n",
    "    train_metrics,\n",
    "    valid_metrics,\n",
    "    save_dir = config['model']['save_dir'],\n",
    "    save_file_id = None,\n",
    ")"
   ]
  },
  {
   "cell_type": "code",
   "execution_count": 15,
   "metadata": {},
   "outputs": [
    {
     "name": "stdout",
     "output_type": "stream",
     "text": [
      "Loaded best model weights...\n"
     ]
    }
   ],
   "source": [
    "config_vit = uct_config.get_CTranS_config()\n",
    "best_model = Net(config_vit, **config['model']['params'])\n",
    "\n",
    "torch.cuda.empty_cache()\n",
    "best_model = best_model.to(device)\n",
    "\n",
    "fn = \"best_model_state_dict.pt\"\n",
    "os.makedirs(config['model']['save_dir'], exist_ok=True)\n",
    "model_path = f\"{config['model']['save_dir']}/{fn}\"\n",
    "\n",
    "best_model.load_state_dict(torch.load(model_path))\n",
    "print(\"Loaded best model weights...\")"
   ]
  },
  {
   "cell_type": "code",
   "execution_count": 16,
   "metadata": {},
   "outputs": [
    {
     "name": "stderr",
     "output_type": "stream",
     "text": [
      "100%|██████████| 14/14 [00:05<00:00,  2.60it/s]\n"
     ]
    },
    {
     "data": {
      "text/plain": [
       "{'test_metrics/MulticlassF1Score': tensor(0.8500, device='cuda:0'),\n",
       " 'test_metrics/MulticlassAccuracy': tensor(0.8500, device='cuda:0'),\n",
       " 'test_metrics/Dice': tensor(0.0334, device='cuda:0'),\n",
       " 'test_metrics/MulticlassPrecision': tensor(0.8500, device='cuda:0'),\n",
       " 'test_metrics/MulticlassSpecificity': tensor(0.8500, device='cuda:0'),\n",
       " 'test_metrics/MulticlassRecall': tensor(0.8500, device='cuda:0'),\n",
       " 'test_metrics/MulticlassJaccardIndex': tensor(0.4333, device='cuda:0')}"
      ]
     },
     "execution_count": 16,
     "metadata": {},
     "output_type": "execute_result"
    }
   ],
   "source": [
    "te_metrics = test(best_model, test_dataloader, test_metrics)\n",
    "te_metrics.compute()"
   ]
  },
  {
   "cell_type": "code",
   "execution_count": 19,
   "metadata": {},
   "outputs": [
    {
     "data": {
      "image/png": "[encoded data removed]",
      "text/plain": [
       "<Figure size 1152x216 with 4 Axes>"
      ]
     },
     "metadata": {
      "needs_background": "light"
     },
     "output_type": "display_data"
    }
   ],
   "source": [
    "result_file_path = f\"{config['model']['save_dir']}/result.json\"\n",
    "with open(result_file_path, 'r') as f:\n",
    "    results = json.loads(''.join(f.readlines()))\n",
    "epochs_info = results['epochs_info']\n",
    "\n",
    "tr_losses = [d['tr_loss'] for d in epochs_info]\n",
    "vl_losses = [d['vl_loss'] for d in epochs_info]\n",
    "tr_dice = [d['tr_metrics']['train_metrics/Dice'] for d in epochs_info]\n",
    "vl_dice = [d['vl_metrics']['valid_metrics/Dice'] for d in epochs_info]\n",
    "tr_js = [d['tr_metrics']['train_metrics/MulticlassJaccardIndex'] for d in epochs_info]\n",
    "vl_js = [d['vl_metrics']['valid_metrics/MulticlassJaccardIndex'] for d in epochs_info]\n",
    "tr_acc = [d['tr_metrics']['train_metrics/MulticlassAccuracy'] for d in epochs_info]\n",
    "vl_acc = [d['vl_metrics']['valid_metrics/MulticlassAccuracy'] for d in epochs_info]\n",
    "\n",
    "\n",
    "_, axs = plt.subplots(1, 4, figsize=[16,3])\n",
    "\n",
    "axs[0].set_title(\"Loss\")\n",
    "axs[0].plot(tr_losses, 'r-', label=\"train loss\")\n",
    "axs[0].plot(vl_losses, 'b-', label=\"validatiton loss\")\n",
    "axs[0].legend()\n",
    "\n",
    "axs[1].set_title(\"Dice score\")\n",
    "axs[1].plot(tr_dice, 'r-', label=\"train dice\")\n",
    "axs[1].plot(vl_dice, 'b-', label=\"validation dice\")\n",
    "axs[1].legend()\n",
    "\n",
    "axs[2].set_title(\"Jaccard Similarity\")\n",
    "axs[2].plot(tr_js, 'r-', label=\"train JaccardIndex\")\n",
    "axs[2].plot(vl_js, 'b-', label=\"validatiton JaccardIndex\")\n",
    "axs[2].legend()\n",
    "\n",
    "axs[3].set_title(\"Accuracy\")\n",
    "axs[3].plot(tr_acc, 'r-', label=\"train Accuracy\")\n",
    "axs[3].plot(vl_acc, 'b-', label=\"validation Accuracy\")\n",
    "axs[3].legend()\n",
    "\n",
    "plt.show()"
   ]
  },
  {
   "cell_type": "code",
   "execution_count": 21,
   "metadata": {},
   "outputs": [
    {
     "name": "stderr",
     "output_type": "stream",
     "text": [
      "100%|██████████| 14/14 [00:14<00:00,  1.02s/it]\n"
     ]
    }
   ],
   "source": [
    "from PIL import Image\n",
    "import cv2\n",
    "def skin_plot(img, gt, pred):\n",
    "    img = np.array(img)\n",
    "    gt = np.array(gt)\n",
    "    pred = np.array(pred)\n",
    "    edged_test = cv2.Canny(pred, 100, 255)\n",
    "    contours_test, _ = cv2.findContours(edged_test, cv2.RETR_TREE, cv2.CHAIN_APPROX_SIMPLE)\n",
    "    edged_gt = cv2.Canny(gt, 100, 255)\n",
    "    contours_gt, _ = cv2.findContours(edged_gt, cv2.RETR_TREE, cv2.CHAIN_APPROX_SIMPLE)\n",
    "    for cnt_test in contours_test:\n",
    "        cv2.drawContours(img, [cnt_test], -1, (0, 0, 255), 1)\n",
    "    for cnt_gt in contours_gt:\n",
    "        cv2.drawContours(img, [cnt_gt], -1, (0,255,0), 1)\n",
    "    return img\n",
    "\n",
    "#---------------------------------------------------------------------------------------------\n",
    "\n",
    "\n",
    "save_imgs_dir = f\"{config['model']['save_dir']}/visualized\"\n",
    "\n",
    "if not os.path.isdir(save_imgs_dir):\n",
    "    os.mkdir(save_imgs_dir)\n",
    "\n",
    "with torch.no_grad():\n",
    "    for batch in tqdm(test_dataloader):\n",
    "        imgs = batch['image']\n",
    "        msks = batch['mask']\n",
    "        ids = batch['id']\n",
    "        \n",
    "        preds = best_model(imgs.to(device))\n",
    "        \n",
    "        txm = imgs.cpu().numpy()\n",
    "        tbm = torch.argmax(msks, 1).cpu().numpy()\n",
    "        tpm = torch.argmax(preds, 1).cpu().numpy()\n",
    "        tid = ids\n",
    "        \n",
    "        for idx in range(len(tbm)):\n",
    "            img = np.moveaxis(txm[idx, :3], 0, -1)*255.\n",
    "            img = np.ascontiguousarray(img, dtype=np.uint8)\n",
    "            gt = np.uint8(tbm[idx]*255.)\n",
    "            pred = np.where(tpm[idx]>0.5, 255, 0)\n",
    "            pred = np.ascontiguousarray(pred, dtype=np.uint8)\n",
    "            \n",
    "            res_img = skin_plot(img, gt, pred)\n",
    "            \n",
    "            fid = tid[idx]\n",
    "            Image.fromarray(img).save(f\"{save_imgs_dir}/{fid}_img.png\")\n",
    "            Image.fromarray(res_img).save(f\"{save_imgs_dir}/{fid}_img_gt_pred.png\")\n"
   ]
  }
 ],
 "metadata": {
  "kernelspec": {
   "display_name": "unets",
   "language": "python",
   "name": "python3"
  },
  "language_info": {
   "codemirror_mode": {
    "name": "ipython",
    "version": 3
   },
   "file_extension": ".py",
   "mimetype": "text/x-python",
   "name": "python",
   "nbconvert_exporter": "python",
   "pygments_lexer": "ipython3",
   "version": "3.8.15"
  },
  "orig_nbformat": 4,
  "vscode": {
   "interpreter": {
    "hash": "601589857ec691cfe143dbd3c48cd0ca4bb2f1360d79ee7a0f0a8f87dd272128"
   }
  }
 },
 "nbformat": 4,
 "nbformat_minor": 2
}
